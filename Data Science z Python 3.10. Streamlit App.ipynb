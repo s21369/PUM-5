{
  "cells": [
    {
      "cell_type": "markdown",
      "id": "norman-choice",
      "metadata": {
        "id": "norman-choice"
      },
      "source": [
        "# Data Science z Python 3.10. Aplikacja w Streamlit (forest)\n",
        "## 🇬🇧 Data Science with Python 3.10. Streamlit App (forest)\n",
        "#### 👨‍🏫 PhD, M.Sc. Psych., M.Sc. IT, Wojciech Oronowicz-Jaśkowiak\n",
        "#### 🤖 https://github.com/aipogodzinach"
      ]
    },
    {
      "cell_type": "markdown",
      "id": "1cf878f4",
      "metadata": {
        "id": "1cf878f4"
      },
      "source": [
        "Celem tego ćwiczenia jest przedstawienie w uproszczeniu procesu tworzenia aplikacji na podstawie wytrenowanego modelu ML. Wykorzystamy ponownie słynny zbiór danych z Kaggle - Titanic - Machine Learning from Disaster. Więcej informacji o tych danych można znaleźć na stronie internetowej - https://www.kaggle.com/c/titanic/data"
      ]
    },
    {
      "cell_type": "markdown",
      "id": "a4d73b3c",
      "metadata": {
        "id": "a4d73b3c"
      },
      "source": [
        "Jeżeli spodoba Ci się tworzenie aplikacji, zapraszamy na kurs \"Środowiska uruchomieniowe i systemy autoML\". Podczas tego kursu zajmujemy się tylko podobną tematyką z wykorzystaniem różnych środowisk (Flask, Streamlit, coreML)."
      ]
    },
    {
      "cell_type": "markdown",
      "id": "7a96f4da",
      "metadata": {
        "id": "7a96f4da"
      },
      "source": [
        "### 1. Import bibliotek"
      ]
    },
    {
      "cell_type": "code",
      "execution_count": 9,
      "id": "tribal-advertising",
      "metadata": {
        "id": "tribal-advertising"
      },
      "outputs": [],
      "source": [
        "import pandas as pd\n",
        "from sklearn.preprocessing import LabelEncoder\n",
        "from sklearn.model_selection import train_test_split\n",
        "from sklearn.ensemble import RandomForestClassifier\n",
        "import pickle\n",
        "\n",
        "# część bibliotek jest nam znana z poprzednich zajęć, kilka jest nowych np. pickle, która służy do eksportu modelu"
      ]
    },
    {
      "cell_type": "code",
      "source": [
        "import os\n",
        "from google.colab import drive\n",
        "drive.mount('/content/drive')\n",
        "os.chdir('/content/drive/My Drive')"
      ],
      "metadata": {
        "colab": {
          "base_uri": "https://localhost:8080/"
        },
        "id": "k55PDeyJbXQH",
        "outputId": "2373226e-1dde-4265-e5ea-65a6a9ee0b94"
      },
      "id": "k55PDeyJbXQH",
      "execution_count": 10,
      "outputs": [
        {
          "output_type": "stream",
          "name": "stdout",
          "text": [
            "Drive already mounted at /content/drive; to attempt to forcibly remount, call drive.mount(\"/content/drive\", force_remount=True).\n"
          ]
        }
      ]
    },
    {
      "cell_type": "markdown",
      "id": "2feb2c32",
      "metadata": {
        "id": "2feb2c32"
      },
      "source": [
        "### 2. Przygotowanie modelu"
      ]
    },
    {
      "cell_type": "markdown",
      "id": "3d449777",
      "metadata": {
        "id": "3d449777"
      },
      "source": [
        "Wykorzystamy kod z poprzednich zajęć do wytrenowania modelu szacującego zmienną \"survived\""
      ]
    },
    {
      "cell_type": "code",
      "execution_count": 11,
      "id": "forced-reporter",
      "metadata": {
        "id": "forced-reporter",
        "colab": {
          "base_uri": "https://localhost:8080/"
        },
        "outputId": "91fee2b6-2a0f-45a6-c9de-8de4556e4dc9"
      },
      "outputs": [
        {
          "output_type": "stream",
          "name": "stdout",
          "text": [
            "Random Forest: 0.9842342342342343\n"
          ]
        }
      ],
      "source": [
        "base_data = pd.read_csv(\"DSP_1.csv\")\n",
        "base_data.columns\n",
        "\n",
        "cols = [\"Survived\", \"Pclass\", \"Sex\", \"Age\", \"SibSp\", \"Parch\", \"Fare\", \"Embarked\"]\n",
        "data = base_data[cols].copy()\n",
        "\n",
        "data[\"Age\"].fillna((data[\"Age\"].mean()), inplace=True) # wypełni nam brakujące informacje średnią\n",
        "data.dropna(subset=['Embarked'], inplace=True)\n",
        "\n",
        "encoder = LabelEncoder()\n",
        "data.loc[:,\"Sex\"] = encoder.fit_transform(data.loc[:,\"Sex\"])\n",
        "data.loc[:,\"Embarked\"] = encoder.fit_transform(data.loc[:,\"Embarked\"])\n",
        "\n",
        "y = data.iloc[:,0]\n",
        "x = data.iloc[:,1:8]\n",
        "X_train, X_test, y_train, y_test = train_test_split(x, y, test_size = 0.5, random_state = 42)\n",
        "\n",
        "def model(X_train, y_train):\n",
        "    \n",
        "    forest = RandomForestClassifier (n_estimators=20, random_state=0)\n",
        "    forest.fit(X_train,y_train)\n",
        "    print(\"Random Forest: {0}\".format(forest.score(X_train,y_train)))\n",
        "    \n",
        "    return forest\n",
        "\n",
        "forest = model(X_train,y_train)"
      ]
    },
    {
      "cell_type": "code",
      "execution_count": 12,
      "id": "d5b1af80",
      "metadata": {
        "id": "d5b1af80",
        "colab": {
          "base_uri": "https://localhost:8080/"
        },
        "outputId": "fbb2b4f0-fa48-41dd-d698-6f1793536a85"
      },
      "outputs": [
        {
          "output_type": "stream",
          "name": "stdout",
          "text": [
            "[0]\n",
            "[1]\n"
          ]
        },
        {
          "output_type": "stream",
          "name": "stderr",
          "text": [
            "/usr/local/lib/python3.7/dist-packages/sklearn/base.py:451: UserWarning: X does not have valid feature names, but RandomForestClassifier was fitted with feature names\n",
            "  \"X does not have valid feature names, but\"\n",
            "/usr/local/lib/python3.7/dist-packages/sklearn/base.py:451: UserWarning: X does not have valid feature names, but RandomForestClassifier was fitted with feature names\n",
            "  \"X does not have valid feature names, but\"\n"
          ]
        }
      ],
      "source": [
        "my_data =[\n",
        "            [\n",
        "             1,  #\"Pclass\"\n",
        "             1,  #\"Sex\", Sex 0 = Female, 1 = Male\n",
        "             50,  #\"Age\", Age\n",
        "             0,  #\"SibSp\"\n",
        "             0,  #\"Parch\"\n",
        "             0,  #\"Fare\", \n",
        "             2,  #\"Embarked\"\n",
        "    ]\n",
        "]\n",
        "\n",
        "print(forest.predict(my_data))\n",
        "\n",
        "my_data =[\n",
        "            [\n",
        "             1,  #\"Pclass\"\n",
        "             0,  #\"Sex\", Sex 0 = Female, 1 = Male\n",
        "             20,  #\"Age\", Age\n",
        "             1,  #\"SibSp\"\n",
        "             0,  #\"Parch\"\n",
        "             0,  #\"Fare\", \n",
        "             2,  #\"Embarked\"\n",
        "    ]\n",
        "]\n",
        "\n",
        "print(forest.predict(my_data))"
      ]
    },
    {
      "cell_type": "markdown",
      "id": "53d1e31a",
      "metadata": {
        "id": "53d1e31a"
      },
      "source": [
        "Teraz jesteśmy gotowi do wyeksportowania naszego modelu do .pkl"
      ]
    },
    {
      "cell_type": "code",
      "execution_count": 13,
      "id": "8f6efed7",
      "metadata": {
        "id": "8f6efed7"
      },
      "outputs": [],
      "source": [
        "filename = \"model.sv\"\n",
        "pickle.dump(forest, open(filename,'wb'))"
      ]
    },
    {
      "cell_type": "markdown",
      "id": "9047beea",
      "metadata": {
        "id": "9047beea"
      },
      "source": [
        "Dalszą część pracy wykonujemy już poza Jupyter Notebook. Przenosimy się do pliku app.py."
      ]
    },
    {
      "cell_type": "markdown",
      "id": "cdcaa529",
      "metadata": {
        "id": "cdcaa529"
      },
      "source": [
        "### 3. Task 📚\n",
        "Skrypt app1.py nie jest kompletny, brakuje w nim kilku istotnych informacji.\n",
        "##### 1.\n",
        "Stwórz zmienną sex_d oraz wprowadź odpowiednie oznaczenia dla kobiet oraz mężczyzn (analogicznie jak zostało to zrobione w przypadku zmiennych pclass_d oraz embarked_d).\n",
        "Create the sex_d variable and enter the appropriate labels for women and men (similarly as it was done in the case of pclass_d and embarked_d variables).\n",
        "##### 2.\n",
        "Wprowadź tytuł aplikacji.\n",
        "Enter the title of application.\n",
        "##### 3.\n",
        "Zamień grafikę na bardziej adekwatną do aplikacji.\n",
        "Change the photo.\n",
        "##### 4.\n",
        "Wprowadź (do lewej kolumny) nową zmienną pclass_radio umożliwiającą prowadzenie jednej z trzech opcji (klasa pierwsza, druga oraz trzecia).\n",
        "Enter (in the left column) the new pclass_radio variable with three labels (first, second and third class).\n",
        "##### 5.\n",
        "W prawej kolumnie znajdują się zmienne odnoszące się do wieku, liczby członków rodziny, opłaty za przejazd. Sprawdź w oryginalnym zbiorze danych jakie wartości minimalne oraz maksymalne mogą zostać wprowadzone przez użytkownika i zmień parametry min_value oraz max_value.\n",
        "In the right column there are variables with information about age, number of family members, etc. Check in the original dataset (what minimum and maximum values can be entered by the user) and change the min_value and max_value parameters.\n",
        "##### 6.\n",
        "Stwórz konto na GitHub oraz Share Streamlit. Stwórz nowe repozytorium w GitHub, w którym umieścisz poprawioną app1.py, plik z wymaganiami (.txt) oraz wytrenowany model. Wykorzystaj usługę Share Streamlit do stworzenia aplikacji.\n",
        "Create an account on GitHub and Share Streamlit. Create a new repository in GitHub, where you will put the corrected app1.py, the requirements file (.txt) and the trained model. Use Share Streamlit to create an application."
      ]
    },
    {
      "cell_type": "code",
      "execution_count": 18,
      "id": "41f8c718",
      "metadata": {
        "id": "41f8c718",
        "colab": {
          "base_uri": "https://localhost:8080/",
          "height": 112
        },
        "outputId": "3e9e8d5a-2c7d-48b7-98d1-c4d3a8c3a833"
      },
      "outputs": [
        {
          "output_type": "execute_result",
          "data": {
            "text/plain": [
              "     PassengerId  Survived  Pclass                         Name     Sex  \\\n",
              "min            1         0       1          Abbing, Mr. Anthony  female   \n",
              "max          891         1       3  van Melkebeke, Mr. Philemon    male   \n",
              "\n",
              "       Age  SibSp  Parch     Ticket      Fare  \n",
              "min   0.42      0      0     110152    0.0000  \n",
              "max  80.00      8      6  WE/P 5735  512.3292  "
            ],
            "text/html": [
              "\n",
              "  <div id=\"df-3ae8a08e-2a1a-4902-9bd9-d1d9f8141e86\">\n",
              "    <div class=\"colab-df-container\">\n",
              "      <div>\n",
              "<style scoped>\n",
              "    .dataframe tbody tr th:only-of-type {\n",
              "        vertical-align: middle;\n",
              "    }\n",
              "\n",
              "    .dataframe tbody tr th {\n",
              "        vertical-align: top;\n",
              "    }\n",
              "\n",
              "    .dataframe thead th {\n",
              "        text-align: right;\n",
              "    }\n",
              "</style>\n",
              "<table border=\"1\" class=\"dataframe\">\n",
              "  <thead>\n",
              "    <tr style=\"text-align: right;\">\n",
              "      <th></th>\n",
              "      <th>PassengerId</th>\n",
              "      <th>Survived</th>\n",
              "      <th>Pclass</th>\n",
              "      <th>Name</th>\n",
              "      <th>Sex</th>\n",
              "      <th>Age</th>\n",
              "      <th>SibSp</th>\n",
              "      <th>Parch</th>\n",
              "      <th>Ticket</th>\n",
              "      <th>Fare</th>\n",
              "    </tr>\n",
              "  </thead>\n",
              "  <tbody>\n",
              "    <tr>\n",
              "      <th>min</th>\n",
              "      <td>1</td>\n",
              "      <td>0</td>\n",
              "      <td>1</td>\n",
              "      <td>Abbing, Mr. Anthony</td>\n",
              "      <td>female</td>\n",
              "      <td>0.42</td>\n",
              "      <td>0</td>\n",
              "      <td>0</td>\n",
              "      <td>110152</td>\n",
              "      <td>0.0000</td>\n",
              "    </tr>\n",
              "    <tr>\n",
              "      <th>max</th>\n",
              "      <td>891</td>\n",
              "      <td>1</td>\n",
              "      <td>3</td>\n",
              "      <td>van Melkebeke, Mr. Philemon</td>\n",
              "      <td>male</td>\n",
              "      <td>80.00</td>\n",
              "      <td>8</td>\n",
              "      <td>6</td>\n",
              "      <td>WE/P 5735</td>\n",
              "      <td>512.3292</td>\n",
              "    </tr>\n",
              "  </tbody>\n",
              "</table>\n",
              "</div>\n",
              "      <button class=\"colab-df-convert\" onclick=\"convertToInteractive('df-3ae8a08e-2a1a-4902-9bd9-d1d9f8141e86')\"\n",
              "              title=\"Convert this dataframe to an interactive table.\"\n",
              "              style=\"display:none;\">\n",
              "        \n",
              "  <svg xmlns=\"http://www.w3.org/2000/svg\" height=\"24px\"viewBox=\"0 0 24 24\"\n",
              "       width=\"24px\">\n",
              "    <path d=\"M0 0h24v24H0V0z\" fill=\"none\"/>\n",
              "    <path d=\"M18.56 5.44l.94 2.06.94-2.06 2.06-.94-2.06-.94-.94-2.06-.94 2.06-2.06.94zm-11 1L8.5 8.5l.94-2.06 2.06-.94-2.06-.94L8.5 2.5l-.94 2.06-2.06.94zm10 10l.94 2.06.94-2.06 2.06-.94-2.06-.94-.94-2.06-.94 2.06-2.06.94z\"/><path d=\"M17.41 7.96l-1.37-1.37c-.4-.4-.92-.59-1.43-.59-.52 0-1.04.2-1.43.59L10.3 9.45l-7.72 7.72c-.78.78-.78 2.05 0 2.83L4 21.41c.39.39.9.59 1.41.59.51 0 1.02-.2 1.41-.59l7.78-7.78 2.81-2.81c.8-.78.8-2.07 0-2.86zM5.41 20L4 18.59l7.72-7.72 1.47 1.35L5.41 20z\"/>\n",
              "  </svg>\n",
              "      </button>\n",
              "      \n",
              "  <style>\n",
              "    .colab-df-container {\n",
              "      display:flex;\n",
              "      flex-wrap:wrap;\n",
              "      gap: 12px;\n",
              "    }\n",
              "\n",
              "    .colab-df-convert {\n",
              "      background-color: #E8F0FE;\n",
              "      border: none;\n",
              "      border-radius: 50%;\n",
              "      cursor: pointer;\n",
              "      display: none;\n",
              "      fill: #1967D2;\n",
              "      height: 32px;\n",
              "      padding: 0 0 0 0;\n",
              "      width: 32px;\n",
              "    }\n",
              "\n",
              "    .colab-df-convert:hover {\n",
              "      background-color: #E2EBFA;\n",
              "      box-shadow: 0px 1px 2px rgba(60, 64, 67, 0.3), 0px 1px 3px 1px rgba(60, 64, 67, 0.15);\n",
              "      fill: #174EA6;\n",
              "    }\n",
              "\n",
              "    [theme=dark] .colab-df-convert {\n",
              "      background-color: #3B4455;\n",
              "      fill: #D2E3FC;\n",
              "    }\n",
              "\n",
              "    [theme=dark] .colab-df-convert:hover {\n",
              "      background-color: #434B5C;\n",
              "      box-shadow: 0px 1px 3px 1px rgba(0, 0, 0, 0.15);\n",
              "      filter: drop-shadow(0px 1px 2px rgba(0, 0, 0, 0.3));\n",
              "      fill: #FFFFFF;\n",
              "    }\n",
              "  </style>\n",
              "\n",
              "      <script>\n",
              "        const buttonEl =\n",
              "          document.querySelector('#df-3ae8a08e-2a1a-4902-9bd9-d1d9f8141e86 button.colab-df-convert');\n",
              "        buttonEl.style.display =\n",
              "          google.colab.kernel.accessAllowed ? 'block' : 'none';\n",
              "\n",
              "        async function convertToInteractive(key) {\n",
              "          const element = document.querySelector('#df-3ae8a08e-2a1a-4902-9bd9-d1d9f8141e86');\n",
              "          const dataTable =\n",
              "            await google.colab.kernel.invokeFunction('convertToInteractive',\n",
              "                                                     [key], {});\n",
              "          if (!dataTable) return;\n",
              "\n",
              "          const docLinkHtml = 'Like what you see? Visit the ' +\n",
              "            '<a target=\"_blank\" href=https://colab.research.google.com/notebooks/data_table.ipynb>data table notebook</a>'\n",
              "            + ' to learn more about interactive tables.';\n",
              "          element.innerHTML = '';\n",
              "          dataTable['output_type'] = 'display_data';\n",
              "          await google.colab.output.renderOutput(dataTable, element);\n",
              "          const docLink = document.createElement('div');\n",
              "          docLink.innerHTML = docLinkHtml;\n",
              "          element.appendChild(docLink);\n",
              "        }\n",
              "      </script>\n",
              "    </div>\n",
              "  </div>\n",
              "  "
            ]
          },
          "metadata": {},
          "execution_count": 18
        }
      ],
      "source": [
        "base_data.agg(['min', 'max'])"
      ]
    }
  ],
  "metadata": {
    "kernelspec": {
      "display_name": "Python 3 (ipykernel)",
      "language": "python",
      "name": "python3"
    },
    "language_info": {
      "codemirror_mode": {
        "name": "ipython",
        "version": 3
      },
      "file_extension": ".py",
      "mimetype": "text/x-python",
      "name": "python",
      "nbconvert_exporter": "python",
      "pygments_lexer": "ipython3",
      "version": "3.8.12"
    },
    "colab": {
      "name": "Data Science z Python 3.10. Streamlit App.ipynb",
      "provenance": [],
      "collapsed_sections": []
    }
  },
  "nbformat": 4,
  "nbformat_minor": 5
}